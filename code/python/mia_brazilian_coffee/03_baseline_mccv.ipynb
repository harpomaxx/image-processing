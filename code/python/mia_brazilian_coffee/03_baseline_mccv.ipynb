{
 "cells": [
  {
   "cell_type": "markdown",
   "metadata": {},
   "source": [
    "**Sources:**   \n",
    "- Dataset: \n",
    "*http://patreo.dcc.ufmg.br/2017/11/12/brazilian-coffee-scenes-dataset/*   \n",
    "- Book: *Deep Learning with Python - Chollet*    \n",
    "- Tutorial to load and preprocess images (image_dataset_from_directory)\n",
    "*https://www.tensorflow.org/tutorials/load_data/images*    "
   ]
  },
  {
   "cell_type": "markdown",
   "metadata": {},
   "source": [
    "# Load data images from disk"
   ]
  },
  {
   "cell_type": "code",
   "execution_count": 1,
   "metadata": {},
   "outputs": [],
   "source": [
    "import os\n",
    "from keras.preprocessing import image\n",
    "\n",
    "base_dir = '/tf/data'\n",
    "\n",
    "# Directories for training and test splits\n",
    "train_dir = os.path.join(base_dir, 'train')\n",
    "test_dir = os.path.join(base_dir, 'test')\n",
    "\n",
    "#Directory with training coffee pictures\n",
    "train_coffee_dir = os.path.join(train_dir, 'coffee')\n",
    "# Directory with training noncoffee pictures\n",
    "train_noncoffee_dir = os.path.join(train_dir, 'noncoffee')\n",
    "\n",
    "# Directory with test coffee pictures\n",
    "test_coffee_dir = os.path.join(test_dir, 'coffee')\n",
    "# Directory with test noncoffee pictures\n",
    "test_noncoffee_dir = os.path.join(test_dir, 'noncoffee')\n",
    "\n",
    "\n",
    "img = image.load_img(os.path.join(train_coffee_dir, \n",
    "                os.listdir(train_coffee_dir)[0]))"
   ]
  },
  {
   "cell_type": "markdown",
   "metadata": {},
   "source": [
    "# Generate a ```Dataset```"
   ]
  },
  {
   "cell_type": "code",
   "execution_count": 2,
   "metadata": {},
   "outputs": [],
   "source": [
    "import tensorflow as tf"
   ]
  },
  {
   "cell_type": "code",
   "execution_count": 3,
   "metadata": {},
   "outputs": [],
   "source": [
    "image_size = img.size\n",
    "batch_size = 32"
   ]
  },
  {
   "cell_type": "markdown",
   "metadata": {},
   "source": [
    "Use the function ```tf.keras.utils.image_dataset_from_directory```: Generates a ```tf.data.Dataset``` from image files in a directory\n",
    "\n",
    "```train_ds = tf.keras.utils.image_dataset_from_directory(```   \n",
    "&nbsp;&nbsp;&nbsp;&nbsp; *Directory where data is located. Since it contains subdirectories, labels are inferred*   \n",
    "&nbsp;&nbsp;&nbsp;&nbsp; ```train_dir,```   \n",
    "&nbsp;&nbsp;&nbsp;&nbsp; *Fraction of data to reserve for validation*    \n",
    "&nbsp;&nbsp;&nbsp;&nbsp; ```validation_split=0.2,```    \n",
    "&nbsp;&nbsp;&nbsp;&nbsp; *Subset of the data to return (**training** or **validation**)*    \n",
    "&nbsp;&nbsp;&nbsp;&nbsp; ```subset=\"training\",```    \n",
    "&nbsp;&nbsp;&nbsp;&nbsp; *Shuffles the data. If false, sorts the data in alphanumeric order*    \n",
    "&nbsp;&nbsp;&nbsp;&nbsp; ```shuffle=True,```    \n",
    "&nbsp;&nbsp;&nbsp;&nbsp; *Optional random seed for shuffling and transformations*    \n",
    "&nbsp;&nbsp;&nbsp;&nbsp; ```seed=123,```   \n",
    "&nbsp;&nbsp;&nbsp;&nbsp; *Size to resize images after thay are read from disk. Since the pipeline processes batches of images thata must all ahve the same size, this must be provided*    \n",
    "&nbsp;&nbsp;&nbsp;&nbsp; ```image_size=image_size,```    \n",
    "&nbsp;&nbsp;&nbsp;&nbsp; *Size of the batches of data*    \n",
    "&nbsp;&nbsp;&nbsp;&nbsp; ```batch_size=batch_size,```    \n",
    "```)```    "
   ]
  },
  {
   "cell_type": "markdown",
   "metadata": {},
   "source": [
    "# Build model\n",
    "### Standardize the data\n",
    "The images have 3 color channels RGB, and the channels values are in the [0,255] range --> they have to be in the [0,1] range for the neural network    \n",
    "```normalization_layer = tf.keras.layers.Rescaling(1./255)```"
   ]
  },
  {
   "cell_type": "code",
   "execution_count": 4,
   "metadata": {},
   "outputs": [],
   "source": [
    "from keras import layers\n",
    "from keras import models\n",
    "from tensorflow.keras import optimizers"
   ]
  },
  {
   "cell_type": "code",
   "execution_count": 5,
   "metadata": {},
   "outputs": [],
   "source": [
    "def build_model(model_size):\n",
    "    model = models.Sequential()\n",
    "\n",
    "    # Standardize the data\n",
    "    model.add(tf.keras.layers.Rescaling(1./255))\n",
    "\n",
    "\n",
    "    if model_size == 'bigger':\n",
    "        model.add(layers.Conv2D(32, (3, 3), activation='relu', \n",
    "                            input_shape=(img.size[0],\n",
    "                            img.size[0], img.layers)))\n",
    "        model.add(layers.MaxPooling2D((2, 2)))\n",
    "\n",
    "        model.add(layers.Conv2D(64, (3, 3), activation='relu'))\n",
    "        model.add(layers.MaxPooling2D((2, 2)))\n",
    "\n",
    "        model.add(layers.Conv2D(128, (3, 3), activation='relu'))\n",
    "        model.add(layers.MaxPooling2D((2, 2)))\n",
    "\n",
    "        model.add(layers.Conv2D(128, (3, 3), activation='relu'))\n",
    "        model.add(layers.MaxPooling2D((2, 2)))\n",
    "\n",
    "        model.add(layers.Flatten())\n",
    "\n",
    "        model.add(layers.Dense(512, activation='relu'))\n",
    "        model.add(layers.Dense(1, activation='sigmoid'))\n",
    "\n",
    "    if model_size == 'smaller':\n",
    "        model.add(layers.Conv2D(32, (3, 3), activation='relu',\n",
    "                            input_shape=(img.size[0],\n",
    "                            img.size[0], img.layers)))\n",
    "        model.add(layers.MaxPooling2D((2, 2)))\n",
    "\n",
    "        model.add(layers.Conv2D(64, (3, 3), activation='relu'))\n",
    "        model.add(layers.MaxPooling2D((2, 2)))\n",
    "\n",
    "        model.add(layers.Conv2D(128, (3, 3), activation='relu'))\n",
    "        model.add(layers.MaxPooling2D((2, 2)))\n",
    "\n",
    "        model.add(layers.Flatten())\n",
    "\n",
    "        model.add(layers.Dense(128, activation='relu'))\n",
    "        model.add(layers.Dense(1, activation='sigmoid'))\n",
    "\n",
    "\n",
    "\n",
    "    model.compile(optimizer=optimizers.RMSprop(learning_rate=1e-4),\n",
    "                loss='binary_crossentropy',\n",
    "                metrics=['accuracy'])\n",
    "\n",
    "    return model"
   ]
  },
  {
   "cell_type": "markdown",
   "metadata": {},
   "source": [
    "# Tensorboard"
   ]
  },
  {
   "cell_type": "code",
   "execution_count": 6,
   "metadata": {},
   "outputs": [],
   "source": [
    "from tensorflow.keras.callbacks import TensorBoard\n",
    "\n",
    "#import time\n",
    "#NAME = \"coffee-{}\".format(int(time.time()))\n",
    "\n",
    "tensorboard = TensorBoard(log_dir='summaries')"
   ]
  },
  {
   "cell_type": "markdown",
   "metadata": {},
   "source": [
    "# Train model + MCCV"
   ]
  },
  {
   "cell_type": "code",
   "execution_count": 7,
   "metadata": {},
   "outputs": [],
   "source": [
    "def train_mccv(folds, model_size):\n",
    "    train_acc_per_fold = []\n",
    "    train_loss_per_fold = []\n",
    "    val_acc_per_fold = []\n",
    "    val_loss_per_fold = []\n",
    "\n",
    "    for i in range(folds):\n",
    "        train_ds = tf.keras.utils.image_dataset_from_directory(\n",
    "            train_dir,\n",
    "            validation_split=0.2,\n",
    "            subset=\"training\",\n",
    "            shuffle=True,\n",
    "            seed=123,\n",
    "            image_size=image_size,\n",
    "            batch_size=batch_size,\n",
    "        )\n",
    "        val_ds = tf.keras.preprocessing.image_dataset_from_directory(\n",
    "            train_dir,\n",
    "            validation_split=0.2,\n",
    "            subset=\"validation\",\n",
    "            shuffle=True,\n",
    "            seed=123,\n",
    "            image_size=image_size,\n",
    "            batch_size=batch_size,\n",
    "        )\n",
    "\n",
    "        model = build_model(model_size)\n",
    "\n",
    "        history = model.fit(\n",
    "                        train_ds,\n",
    "                        epochs=50,\n",
    "                        validation_data=val_ds,\n",
    "                        callbacks=[tensorboard],\n",
    "                        verbose=0)\n",
    "\n",
    "        acc = history.history['accuracy']\n",
    "        val_acc = history.history['val_accuracy']\n",
    "        loss = history.history['loss']\n",
    "        val_loss = history.history['val_loss']\n",
    "\n",
    "        print(f'Score for fold {i+1}:\\nTraining   -> acc of {acc[-1]};'\n",
    "        f'  loss of {loss[-1]};'\n",
    "        f'\\nValidation -> acc of {val_acc[-1]};'\n",
    "        f'  loss of {val_loss[-1]}%\\n')\n",
    "\n",
    "        train_acc_per_fold.append(acc[-1] * 100)\n",
    "        train_loss_per_fold.append(loss[-1])\n",
    "        val_acc_per_fold.append(val_acc[-1] * 100)\n",
    "        val_loss_per_fold.append(val_loss[-1])\n",
    "\n",
    "    return train_acc_per_fold, train_loss_per_fold, val_acc_per_fold, val_loss_per_fold"
   ]
  },
  {
   "cell_type": "code",
   "execution_count": 8,
   "metadata": {},
   "outputs": [
    {
     "name": "stdout",
     "output_type": "stream",
     "text": [
      "Found 2400 files belonging to 2 classes.\n",
      "Using 1920 files for training.\n",
      "Found 2400 files belonging to 2 classes.\n",
      "Using 480 files for validation.\n",
      "Score for fold 1:\n",
      "Training   -> acc of 0.9114583134651184;  loss of 0.21681948006153107;\n",
      "Validation -> acc of 0.9125000238418579;  loss of 0.22581185400485992%\n",
      "\n",
      "Found 2400 files belonging to 2 classes.\n",
      "Using 1920 files for training.\n",
      "Found 2400 files belonging to 2 classes.\n",
      "Using 480 files for validation.\n",
      "Score for fold 2:\n",
      "Training   -> acc of 0.9098958373069763;  loss of 0.211153045296669;\n",
      "Validation -> acc of 0.90625;  loss of 0.22005322575569153%\n",
      "\n",
      "Found 2400 files belonging to 2 classes.\n",
      "Using 1920 files for training.\n",
      "Found 2400 files belonging to 2 classes.\n",
      "Using 480 files for validation.\n",
      "Score for fold 3:\n",
      "Training   -> acc of 0.9145833253860474;  loss of 0.20176509022712708;\n",
      "Validation -> acc of 0.893750011920929;  loss of 0.24789485335350037%\n",
      "\n",
      "Found 2400 files belonging to 2 classes.\n",
      "Using 1920 files for training.\n",
      "Found 2400 files belonging to 2 classes.\n",
      "Using 480 files for validation.\n",
      "Score for fold 4:\n",
      "Training   -> acc of 0.9125000238418579;  loss of 0.20219272375106812;\n",
      "Validation -> acc of 0.9083333611488342;  loss of 0.23106904327869415%\n",
      "\n",
      "Found 2400 files belonging to 2 classes.\n",
      "Using 1920 files for training.\n",
      "Found 2400 files belonging to 2 classes.\n",
      "Using 480 files for validation.\n",
      "Score for fold 5:\n",
      "Training   -> acc of 0.9156249761581421;  loss of 0.20862364768981934;\n",
      "Validation -> acc of 0.9041666388511658;  loss of 0.22504238784313202%\n",
      "\n"
     ]
    }
   ],
   "source": [
    "train_acc, train_loss, val_acc, val_loss = train_mccv(5, 'bigger')"
   ]
  },
  {
   "cell_type": "code",
   "execution_count": 9,
   "metadata": {},
   "outputs": [
    {
     "name": "stdout",
     "output_type": "stream",
     "text": [
      "Results for bigger version of convnet model\n",
      "\n",
      "Overall training accuracy: 91.28124952316284\n",
      "Overall training loss: 0.2081107974052429\n",
      "\n",
      "Overall validation accuracy: 90.50000071525574\n",
      "Overall validation loss: 0.2299742728471756\n"
     ]
    }
   ],
   "source": [
    "import numpy as np\n",
    "print(\"Results for bigger version of convnet model\")\n",
    "print(\"\\nOverall training accuracy: \" + str(np.average(train_acc)))\n",
    "print(\"Overall training loss: \" + str(np.average(train_loss)))\n",
    "print(\"\\nOverall validation accuracy: \" + str(np.average(val_acc)))\n",
    "print(\"Overall validation loss: \" + str(np.average(val_loss)))"
   ]
  },
  {
   "cell_type": "markdown",
   "metadata": {},
   "source": [
    "# ===========================================================\n",
    "# Second basic model"
   ]
  },
  {
   "cell_type": "code",
   "execution_count": 10,
   "metadata": {},
   "outputs": [
    {
     "name": "stdout",
     "output_type": "stream",
     "text": [
      "Found 2400 files belonging to 2 classes.\n",
      "Using 1920 files for training.\n",
      "Found 2400 files belonging to 2 classes.\n",
      "Using 480 files for validation.\n",
      "Score for fold 1:\n",
      "Training   -> acc of 0.9145833253860474;  loss of 0.20692692697048187;\n",
      "Validation -> acc of 0.8999999761581421;  loss of 0.22861512005329132%\n",
      "\n",
      "Found 2400 files belonging to 2 classes.\n",
      "Using 1920 files for training.\n",
      "Found 2400 files belonging to 2 classes.\n",
      "Using 480 files for validation.\n",
      "Score for fold 2:\n",
      "Training   -> acc of 0.9104166626930237;  loss of 0.22033710777759552;\n",
      "Validation -> acc of 0.8812500238418579;  loss of 0.26706770062446594%\n",
      "\n",
      "Found 2400 files belonging to 2 classes.\n",
      "Using 1920 files for training.\n",
      "Found 2400 files belonging to 2 classes.\n",
      "Using 480 files for validation.\n",
      "Score for fold 3:\n",
      "Training   -> acc of 0.9166666865348816;  loss of 0.20904116332530975;\n",
      "Validation -> acc of 0.9020833373069763;  loss of 0.23435507714748383%\n",
      "\n",
      "Found 2400 files belonging to 2 classes.\n",
      "Using 1920 files for training.\n",
      "Found 2400 files belonging to 2 classes.\n",
      "Using 480 files for validation.\n",
      "Score for fold 4:\n",
      "Training   -> acc of 0.9161458611488342;  loss of 0.21215520799160004;\n",
      "Validation -> acc of 0.8854166865348816;  loss of 0.24629516899585724%\n",
      "\n",
      "Found 2400 files belonging to 2 classes.\n",
      "Using 1920 files for training.\n",
      "Found 2400 files belonging to 2 classes.\n",
      "Using 480 files for validation.\n",
      "Score for fold 5:\n",
      "Training   -> acc of 0.921875;  loss of 0.19826337695121765;\n",
      "Validation -> acc of 0.9166666865348816;  loss of 0.22152505815029144%\n",
      "\n"
     ]
    }
   ],
   "source": [
    "train_acc, train_loss, val_acc, val_loss = train_mccv(5, 'smaller')"
   ]
  },
  {
   "cell_type": "code",
   "execution_count": 11,
   "metadata": {},
   "outputs": [
    {
     "name": "stdout",
     "output_type": "stream",
     "text": [
      "Results for smaller version of convnet model\n",
      "Results for bigger version of convnet model\n",
      "\n",
      "Overall training accuracy: 91.59375071525574\n",
      "Overall training loss: 0.20934475660324098\n",
      "\n",
      "Overall validation accuracy: 89.70833420753479\n",
      "Overall validation loss: 0.23957162499427795\n"
     ]
    }
   ],
   "source": [
    "print(\"Results for smaller version of convnet model\")\n",
    "print(\"Results for bigger version of convnet model\")\n",
    "print(\"\\nOverall training accuracy: \" + str(np.average(train_acc)))\n",
    "print(\"Overall training loss: \" + str(np.average(train_loss)))\n",
    "print(\"\\nOverall validation accuracy: \" + str(np.average(val_acc)))\n",
    "print(\"Overall validation loss: \" + str(np.average(val_loss)))"
   ]
  }
 ],
 "metadata": {
  "kernelspec": {
   "display_name": "Python 3",
   "language": "python",
   "name": "python3"
  },
  "language_info": {
   "codemirror_mode": {
    "name": "ipython",
    "version": 3
   },
   "file_extension": ".py",
   "mimetype": "text/x-python",
   "name": "python",
   "nbconvert_exporter": "python",
   "pygments_lexer": "ipython3",
   "version": "3.8.10"
  },
  "orig_nbformat": 4
 },
 "nbformat": 4,
 "nbformat_minor": 2
}
