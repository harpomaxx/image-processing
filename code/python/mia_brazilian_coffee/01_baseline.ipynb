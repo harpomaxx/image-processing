{
 "cells": [
  {
   "cell_type": "code",
   "execution_count": 1,
   "metadata": {},
   "outputs": [],
   "source": [
    "import os\n",
    "from keras.preprocessing import image"
   ]
  },
  {
   "cell_type": "code",
   "execution_count": null,
   "metadata": {},
   "outputs": [],
   "source": [
    "base_dir = '/tf/data'\n",
    "\n",
    "# Directories for training, validation and test splits\n",
    "train_dir = os.path.join(base_dir, 'train')\n",
    "validation_dir = os.path.join(base_dir, 'validation')\n",
    "test_dir = os.path.join(base_dir, 'test')\n",
    "\n",
    "\n",
    "#Directory with training coffee pictures\n",
    "train_coffee_dir = os.path.join(train_dir, 'coffee')\n",
    "# Directory with training noncoffee pictures\n",
    "train_noncoffee_dir = os.path.join(train_dir, 'noncoffee')\n",
    "\n",
    "\n",
    "# Directory with validation coffee pictures\n",
    "validation_coffee_dir = os.path.join(validation_dir, 'coffee')\n",
    "# Directory with validation noncoffee pictures\n",
    "validation_noncoffee_dir = os.path.join(validation_dir, 'noncoffee')\n",
    "\n",
    "# Directory with test coffee pictures\n",
    "test_coffee_dir = os.path.join(test_dir, 'coffee')\n",
    "# Directory with test noncoffee pictures\n",
    "test_noncoffee_dir = os.path.join(test_dir, 'noncoffee')"
   ]
  },
  {
   "cell_type": "code",
   "execution_count": null,
   "metadata": {},
   "outputs": [],
   "source": [
    "print('total train coffee images:', len(os.listdir(train_coffee_dir)))\n",
    "print('total train noncoffee images:', len(os.listdir(train_noncoffee_dir)))\n",
    "print('total validation coffee images:', len(os.listdir(validation_coffee_dir)))\n",
    "print('total validation noncoffee images:', len(os.listdir(validation_noncoffee_dir)))\n",
    "print('total test coffee images:', len(os.listdir(test_coffee_dir)))\n",
    "print('total test noncoffee images:', len(os.listdir(test_noncoffee_dir)))\n",
    "\n",
    "img = image.load_img(os.path.join(train_coffee_dir, os.listdir(train_coffee_dir)[0]))\n",
    "print(img.size)\n",
    "img.show()"
   ]
  },
  {
   "cell_type": "markdown",
   "metadata": {},
   "source": [
    "It's a *balanced* binary-classification problem => classification ```accuracy``` is an appropriate measure of success.\n",
    "\n",
    "# Preprocessing\n",
    "- Read the picture files\n",
    "- Decode the JPEG content to RGB grid of pixels\n",
    "- Convert these into floating-point tensors\n",
    "- Rescale the pixel values (between 0 and 255) to the [0,1] interval (to deal with small input values)"
   ]
  },
  {
   "cell_type": "code",
   "execution_count": null,
   "metadata": {},
   "outputs": [],
   "source": [
    "from keras.preprocessing.image import ImageDataGenerator"
   ]
  },
  {
   "cell_type": "code",
   "execution_count": null,
   "metadata": {},
   "outputs": [],
   "source": [
    "# Images to tensors\n",
    "train_datagen = ImageDataGenerator(rescale=1./255)\n",
    "test_datagen = ImageDataGenerator(rescale=1./255)\n",
    "\n",
    "train_generator = train_datagen.flow_from_directory(\n",
    "                train_dir,\n",
    "                target_size=img.size, # Resizes all images to 64x64\n",
    "                batch_size=20,\n",
    "                class_mode='binary') # Binary-crossentropy loss => needs\n",
    "                                     # binary labels\n",
    "\n",
    "validation_generator = test_datagen.flow_from_directory(\n",
    "                validation_dir,\n",
    "                target_size=img.size, # Resizes all images to 64x64\n",
    "                batch_size=20,\n",
    "                class_mode='binary')"
   ]
  },
  {
   "cell_type": "markdown",
   "metadata": {},
   "source": [
    "\n",
    "# First - baseline\n",
    "Naively train a new small convnet on the training samples, *without regularization*, to set a baseline for what can be achieved."
   ]
  },
  {
   "cell_type": "code",
   "execution_count": null,
   "metadata": {},
   "outputs": [],
   "source": [
    "from keras import layers\n",
    "from keras import models\n",
    "from tensorflow.keras import optimizers"
   ]
  },
  {
   "cell_type": "code",
   "execution_count": null,
   "metadata": {},
   "outputs": [],
   "source": [
    "model = models.Sequential()\n",
    "\n",
    "model.add(layers.Conv2D(32, (3, 3), activation='relu', \n",
    "            input_shape=(64, 64, 3)))\n",
    "model.add(layers.MaxPooling2D((2, 2)))\n",
    "\n",
    "model.add(layers.Conv2D(64, (3, 3), activation='relu'))\n",
    "model.add(layers.MaxPooling2D((2, 2)))\n",
    "\n",
    "model.add(layers.Conv2D(128, (3, 3), activation='relu'))\n",
    "model.add(layers.MaxPooling2D((2, 2)))\n",
    "\n",
    "model.add(layers.Flatten())\n",
    "\n",
    "model.add(layers.Dense(512, activation='relu'))\n",
    "model.add(layers.Dense(1, activation='sigmoid'))\n",
    "\n",
    "model.compile(optimizer=optimizers.RMSprop(learning_rate=1e-4),\n",
    "            loss='binary_crossentropy',\n",
    "            metrics=['accuracy'])\n",
    "\n",
    "model.summary()"
   ]
  },
  {
   "cell_type": "code",
   "execution_count": null,
   "metadata": {},
   "outputs": [],
   "source": [
    "history = model.fit(\n",
    "                train_generator,\n",
    "                # train_generator found 2400 images => images/batch_size => 2400/20 = 120\n",
    "                steps_per_epoch=120,\n",
    "                epochs=50,\n",
    "                validation_data=validation_generator,\n",
    "                # validation_generator found 600 images => images/batch_size => 600/20 = 30\n",
    "                validation_steps=30)"
   ]
  },
  {
   "cell_type": "markdown",
   "metadata": {},
   "source": [
    "Saving the model:"
   ]
  },
  {
   "cell_type": "code",
   "execution_count": null,
   "metadata": {},
   "outputs": [],
   "source": [
    "model.save('/tf/data/saved-models/brazilian_coffee_1.h5')"
   ]
  },
  {
   "cell_type": "markdown",
   "metadata": {},
   "source": [
    "# Plot loss and accuracy"
   ]
  },
  {
   "cell_type": "code",
   "execution_count": null,
   "metadata": {},
   "outputs": [],
   "source": [
    "import matplotlib.pyplot as plt"
   ]
  },
  {
   "cell_type": "code",
   "execution_count": null,
   "metadata": {},
   "outputs": [],
   "source": [
    "acc = history.history['accuracy']\n",
    "val_acc = history.history['val_accuracy']\n",
    "loss = history.history['loss']\n",
    "val_loss = history.history['val_loss']\n",
    "\n",
    "epochs = range(1, len(acc) + 1)\n",
    "\n",
    "plt.plot(epochs, acc, 'bo', label='Training acc')\n",
    "plt.plot(epochs, val_acc, 'b', label='Validation acc')\n",
    "plt.title('Training and validation accuracy')\n",
    "plt.legend()\n",
    "\n",
    "plt.figure()\n",
    "\n",
    "plt.plot(epochs, loss, 'bo', label='Training loss')\n",
    "plt.plot(epochs, val_loss, 'b', label='Validation loss')\n",
    "plt.title('Training and validation loss')\n",
    "plt.legend()\n",
    "\n",
    "plt.show()"
   ]
  }
 ],
 "metadata": {
  "kernelspec": {
   "display_name": "Python 3",
   "language": "python",
   "name": "python3"
  },
  "language_info": {
   "name": "python",
   "version": "3.8.10"
  },
  "orig_nbformat": 4
 },
 "nbformat": 4,
 "nbformat_minor": 2
}
